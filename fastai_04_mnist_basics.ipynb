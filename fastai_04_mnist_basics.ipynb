{
  "cells": [
    {
      "cell_type": "markdown",
      "metadata": {
        "id": "0BL5IheqrsNK"
      },
      "source": [
        "# Chapter 4: MNIST Basics"
      ]
    },
    {
      "cell_type": "markdown",
      "metadata": {
        "id": "EOe3jsVJrwu8"
      },
      "source": [
        "## Setup"
      ]
    },
    {
      "cell_type": "code",
      "execution_count": null,
      "metadata": {
        "id": "eB1PFPXbryQa"
      },
      "outputs": [],
      "source": [
        "!pip install -Uqq fastbook\n",
        "import fastbook\n",
        "fastbook.setup_book()"
      ]
    },
    {
      "cell_type": "code",
      "execution_count": null,
      "metadata": {
        "id": "GOda8xrqr2Xe"
      },
      "outputs": [],
      "source": [
        "from fastai.vision.all import *\n",
        "from fastbook import *\n",
        "\n",
        "matplotlib.rc('image', cmap='Greys')"
      ]
    },
    {
      "cell_type": "markdown",
      "metadata": {
        "id": "mLloiB_csE4o"
      },
      "source": [
        "## Foundations of Computer Vision"
      ]
    },
    {
      "cell_type": "markdown",
      "metadata": {
        "id": "yhWpjc3Psu_X"
      },
      "source": [
        "### Fun facts from history"
      ]
    },
    {
      "cell_type": "markdown",
      "metadata": {
        "id": "4sySNAH2mcKp"
      },
      "source": [
        "- Lenet-5 was the first computer system to recognise handwritten digits well enough for practical use. \n",
        "- Yann LeCun, Yoshua Bengio and Geoffrey Hinton were awarded the Turing Award for persevering with NNs during the second AI winter. Even papers with SoTA results were rejected for using NNs!\n",
        "- Jurgen Schmidhuber and Sepp Hochreiter pioneered LSTMs (among other things)\n",
        "- In 1974, Paul Werbos invented backprop"
      ]
    },
    {
      "cell_type": "markdown",
      "metadata": {
        "id": "VYG1qqPVuZhf"
      },
      "source": [
        "### Simple classification - 2 categories"
      ]
    },
    {
      "cell_type": "markdown",
      "metadata": {
        "id": "OT4pUQ1K4jDU"
      },
      "source": [
        "We start with a simple task - classifying a digit as a 3 or a 7."
      ]
    },
    {
      "cell_type": "code",
      "execution_count": null,
      "metadata": {
        "id": "bGhJ-ChJ4m-v"
      },
      "outputs": [],
      "source": [
        "path = untar_data(URLs.MNIST_SAMPLE)"
      ]
    },
    {
      "cell_type": "code",
      "execution_count": null,
      "metadata": {
        "id": "iFgtBH-K4psP"
      },
      "outputs": [],
      "source": [
        "Path.BASE_PATH = path"
      ]
    },
    {
      "cell_type": "code",
      "execution_count": null,
      "metadata": {
        "colab": {
          "base_uri": "https://localhost:8080/"
        },
        "id": "5yjbQJVU4sY8",
        "outputId": "730001aa-3580-4395-f36d-3e6e5c233a74"
      },
      "outputs": [],
      "source": [
        "path.ls()"
      ]
    },
    {
      "cell_type": "code",
      "execution_count": null,
      "metadata": {
        "colab": {
          "base_uri": "https://localhost:8080/"
        },
        "id": "ZfwSyfWu4y7r",
        "outputId": "e8559f98-a45d-489a-b409-3828c2421836"
      },
      "outputs": [],
      "source": [
        "(path/\"train\").ls()"
      ]
    },
    {
      "cell_type": "code",
      "execution_count": null,
      "metadata": {
        "colab": {
          "base_uri": "https://localhost:8080/"
        },
        "id": "J1seSPWm45Mr",
        "outputId": "1cb68ef5-f6d9-4a1e-85e3-6c183f74055c"
      },
      "outputs": [],
      "source": [
        "threes = (path/\"train\"/\"3\").ls().sorted()\n",
        "sevens = (path/\"train\"/\"7\").ls().sorted()\n",
        "threes"
      ]
    },
    {
      "cell_type": "code",
      "execution_count": null,
      "metadata": {
        "colab": {
          "base_uri": "https://localhost:8080/",
          "height": 0
        },
        "id": "LNQR0GR25EHq",
        "outputId": "e2a8c40c-6cef-48d3-a85f-5c50a757f791"
      },
      "outputs": [],
      "source": [
        "# see sample image file\n",
        "im3_path = threes[1] \n",
        "im3 = Image.open(im3_path) # uses PIL\n",
        "im3"
      ]
    },
    {
      "cell_type": "code",
      "execution_count": null,
      "metadata": {
        "colab": {
          "base_uri": "https://localhost:8080/"
        },
        "id": "n1WYy2pD5QzC",
        "outputId": "f4c6ecd6-d8d9-4548-a139-7de224626bb9"
      },
      "outputs": [],
      "source": [
        "# view im3 as array\n",
        "array(im3)[4:10, 4:10]"
      ]
    },
    {
      "cell_type": "code",
      "execution_count": null,
      "metadata": {
        "colab": {
          "base_uri": "https://localhost:8080/"
        },
        "id": "VexoxkDq5cZB",
        "outputId": "e2ba2d8f-9686-477d-d5d6-fda09427370c"
      },
      "outputs": [],
      "source": [
        "# view part of im3 as tensor\n",
        "tensor(im3)[4:10,4:10]"
      ]
    },
    {
      "cell_type": "code",
      "execution_count": null,
      "metadata": {
        "colab": {
          "base_uri": "https://localhost:8080/",
          "height": 0
        },
        "id": "0-Vg-T3a5l-F",
        "outputId": "3ef7534b-ffb9-497a-bb49-f379ba441b49"
      },
      "outputs": [],
      "source": [
        "# slice array to get top part of digit\n",
        "im3_t = tensor(im3)\n",
        "df = pd.DataFrame(im3_t[4:15,4:22])\n",
        "df.style.set_properties(**{\"font-size\":\"6pt\"}).background_gradient(\"Greys\")"
      ]
    },
    {
      "cell_type": "markdown",
      "metadata": {
        "id": "ySpSAMLT56s7"
      },
      "source": [
        "How does the model learn to recognise the digits? Personal guesses: \n",
        "- It does some kind of edge detection by looking at boundaries of bright vs dark pixels\n",
        "- It puts these together by trying to maintain a continuous curve and seeing how it fits"
      ]
    },
    {
      "cell_type": "markdown",
      "metadata": {
        "id": "14Hicsht6Y8A"
      },
      "source": [
        "As a first attempt, we might try to use pixel similarity. Take the average value of the pixels of the 3s, and do the same for the 7s. Then classify by seeing which of the two the image is most similar to.\n",
        "\n",
        "This can act as a baseline, i.e. a model which you are confident should perform reasonably well. It should be easy to implement and test, and used to compare with further attempts. "
      ]
    },
    {
      "cell_type": "code",
      "execution_count": null,
      "metadata": {
        "colab": {
          "base_uri": "https://localhost:8080/"
        },
        "id": "AqJ4KOVe7iLm",
        "outputId": "63496726-ca1a-4aa9-dadb-68f2237a35ee"
      },
      "outputs": [],
      "source": [
        "# stack 3s and 7s and do sanity check\n",
        "seven_tensors = [tensor(Image.open(o)) for o in sevens]\n",
        "three_tensors = [tensor(Image.open(o)) for o in threes]\n",
        "len(three_tensors), len(seven_tensors)"
      ]
    },
    {
      "cell_type": "code",
      "execution_count": null,
      "metadata": {
        "colab": {
          "base_uri": "https://localhost:8080/",
          "height": 0
        },
        "id": "TowIfjh771j8",
        "outputId": "41d6a6bd-0ddb-4437-f8ce-b17fac0da2a0"
      },
      "outputs": [],
      "source": [
        "show_image(three_tensors[1]); # semicolon suppresses displaying the type"
      ]
    },
    {
      "cell_type": "markdown",
      "metadata": {
        "id": "A-cxTEhh9DVd"
      },
      "source": [
        "Now we stack the image tensors and take the means"
      ]
    },
    {
      "cell_type": "code",
      "execution_count": null,
      "metadata": {
        "colab": {
          "base_uri": "https://localhost:8080/"
        },
        "id": "zCYD65ju7-X3",
        "outputId": "61a3a192-dbb4-423b-96f5-0757c533b67b"
      },
      "outputs": [],
      "source": [
        "# stack the tensors\n",
        "stacked_sevens = torch.stack(seven_tensors).float()/255\n",
        "stacked_threes = torch.stack(three_tensors).float()/255\n",
        "stacked_threes.shape"
      ]
    },
    {
      "cell_type": "code",
      "execution_count": null,
      "metadata": {
        "colab": {
          "base_uri": "https://localhost:8080/"
        },
        "id": "KVSr_flX9Bv1",
        "outputId": "9b506824-97c0-4631-cd94-21f14d41cce5"
      },
      "outputs": [],
      "source": [
        "# length of a tensor shape is its rank\n",
        "len(stacked_threes.shape)"
      ]
    },
    {
      "cell_type": "code",
      "execution_count": null,
      "metadata": {
        "colab": {
          "base_uri": "https://localhost:8080/"
        },
        "id": "WH1P-F2rjH_H",
        "outputId": "02ce3ce4-56c4-4b6d-b4a3-539c975155b3"
      },
      "outputs": [],
      "source": [
        "# can also use ndim to get the rank directly\n",
        "stacked_threes.ndim"
      ]
    },
    {
      "cell_type": "code",
      "execution_count": null,
      "metadata": {
        "colab": {
          "base_uri": "https://localhost:8080/",
          "height": 0
        },
        "id": "zCeThj8QjMXz",
        "outputId": "2bc72245-d991-45e8-8427-b87bb9fe5851"
      },
      "outputs": [],
      "source": [
        "mean3 = stacked_threes.mean(0)\n",
        "show_image(mean3);"
      ]
    },
    {
      "cell_type": "markdown",
      "metadata": {
        "id": "Z_tO2d-BjQ_5"
      },
      "source": [
        "This is the \"ideal\" number 3 - it is clearer where the images agree it should be, but blurry where the images disagree. "
      ]
    },
    {
      "cell_type": "code",
      "execution_count": null,
      "metadata": {
        "colab": {
          "base_uri": "https://localhost:8080/",
          "height": 0
        },
        "id": "lS-ir3dUjZeq",
        "outputId": "8d2d9e0b-60fc-465f-bc63-4f9957aebf9f"
      },
      "outputs": [],
      "source": [
        "mean7 = stacked_sevens.mean(0)\n",
        "show_image(mean7);"
      ]
    },
    {
      "cell_type": "markdown",
      "metadata": {
        "id": "p2SJLRmejcuU"
      },
      "source": [
        "If we now pick a random 3 and determine the distance between this and the ideal 3 (e.g. using absolute values of squared distances), then we get: "
      ]
    },
    {
      "cell_type": "code",
      "execution_count": null,
      "metadata": {
        "colab": {
          "base_uri": "https://localhost:8080/",
          "height": 0
        },
        "id": "S6GWLwFzjsrE",
        "outputId": "6d5d22ed-59bf-44db-c58e-f706cc3e61ef"
      },
      "outputs": [],
      "source": [
        "# choose a random 3\n",
        "a_3 = stacked_threes[1]\n",
        "show_image(a_3);"
      ]
    },
    {
      "cell_type": "code",
      "execution_count": null,
      "metadata": {
        "colab": {
          "base_uri": "https://localhost:8080/"
        },
        "id": "qKmpHoKqjz4h",
        "outputId": "834e0aad-1d39-45ea-c77d-b37acad5dbd0"
      },
      "outputs": [],
      "source": [
        "dist_3_abs = (a_3 - mean3).abs().mean()\n",
        "dist_3_sqr = ((a_3 - mean3)**2).mean().sqrt()\n",
        "dist_3_abs,dist_3_sqr "
      ]
    },
    {
      "cell_type": "code",
      "execution_count": null,
      "metadata": {
        "colab": {
          "base_uri": "https://localhost:8080/"
        },
        "id": "nllQ_6kdkH1y",
        "outputId": "98009bea-754a-4e3e-9dda-2a74dc351656"
      },
      "outputs": [],
      "source": [
        "dist_7_abs = (a_3 - mean7).abs().mean()\n",
        "dist_7_sqr = ((a_3 - mean7)**2).mean().sqrt()\n",
        "dist_7_abs, dist_7_sqr"
      ]
    },
    {
      "cell_type": "markdown",
      "metadata": {
        "id": "yMpredCFkSdF"
      },
      "source": [
        "The distance is smaller for the 3, so in this case the model gives the right prediction. Let's do the same thing using loss functions:"
      ]
    },
    {
      "cell_type": "code",
      "execution_count": null,
      "metadata": {
        "colab": {
          "base_uri": "https://localhost:8080/"
        },
        "id": "pdmyWKKHkelT",
        "outputId": "1338ab66-13fd-4430-ce22-0638f82b9aab"
      },
      "outputs": [],
      "source": [
        "F.l1_loss(a_3.float(),mean7), F.mse_loss(a_3,mean7).sqrt()"
      ]
    },
    {
      "cell_type": "markdown",
      "metadata": {
        "id": "6c2b0plPkpNL"
      },
      "source": [
        "MSE penalises larger losses more and is more lenient with smaller ones, compared to L1 loss."
      ]
    },
    {
      "cell_type": "markdown",
      "metadata": {
        "id": "qQZE9_Rrk8Yx"
      },
      "source": [
        "### NumPy vs PyTorch"
      ]
    },
    {
      "cell_type": "markdown",
      "metadata": {
        "id": "Z8jPVrsblCfr"
      },
      "source": [
        "NumPy is very similar to PyTorch except that it doesn't support GPU usage or gradient calulations. \n",
        "\n",
        "Numpy arrays can have data of any type, including arrays (with potentially different sizes, forming a \"jagged array\"). This isn't possible in PyTorch - the structure must be rectangular, and all components must have the same numeric type. \n",
        "\n",
        "Python is generally pretty slow - things that are fast (e.g. in Numpy or Pytorch) are usually written in *other languages*, and can often do calculations thousands of times faster than pure Python. Numpy and PyTorch make use of this to make it much faster, so avoid writing loops in Python and instead use matrix operations that are optimised in lower-level languages. "
      ]
    },
    {
      "cell_type": "markdown",
      "metadata": {
        "id": "6W0ascqimRgJ"
      },
      "source": [
        "### Computing metrics using broadcasting"
      ]
    },
    {
      "cell_type": "markdown",
      "metadata": {
        "id": "nBhLrAH0mVqv"
      },
      "source": [
        "The previous model has no learned components, so overfitting isn't really a problem. But just for practice, let's calculate some metrics using a validation set.  "
      ]
    },
    {
      "cell_type": "code",
      "execution_count": null,
      "metadata": {
        "colab": {
          "base_uri": "https://localhost:8080/"
        },
        "id": "Q1XzCxvTnbhr",
        "outputId": "6e11666c-c1bc-4f82-f8ca-aa59537cd39f"
      },
      "outputs": [],
      "source": [
        "valid_3_tens = torch.stack([tensor(Image.open(o)) for o in (path/'valid'/'3').ls()])\n",
        "valid_3_tens = valid_3_tens.float()/255\n",
        "valid_7_tens = torch.stack([tensor(Image.open(o)) for o in (path/\"valid\"/\"7\").ls()])\n",
        "valid_7_tens = valid_7_tens.float()/255\n",
        "valid_3_tens.shape, valid_7_tens.shape"
      ]
    },
    {
      "cell_type": "markdown",
      "metadata": {
        "id": "gd6vlSNRn1qD"
      },
      "source": [
        "Note to self: get in the habit of checking shapes as you go!"
      ]
    },
    {
      "cell_type": "code",
      "execution_count": null,
      "metadata": {
        "colab": {
          "base_uri": "https://localhost:8080/"
        },
        "id": "lAKlAJuIoA7e",
        "outputId": "bf8fafc5-646b-4111-9ceb-c6eb0c959966"
      },
      "outputs": [],
      "source": [
        "# function to find mean abs error\n",
        "def mnist_distance(a,b): return (a-b).abs().mean((-1,-2))\n",
        "mnist_distance(a_3, mean3)"
      ]
    },
    {
      "cell_type": "markdown",
      "metadata": {
        "id": "ix2FFdtmpsck"
      },
      "source": [
        "What happens if we feed in two tensors of different dimensions?"
      ]
    },
    {
      "cell_type": "code",
      "execution_count": null,
      "metadata": {
        "colab": {
          "base_uri": "https://localhost:8080/"
        },
        "id": "1H2Rv4AcokaN",
        "outputId": "d3b23690-c1e5-4270-de72-f9c0f85d5b2a"
      },
      "outputs": [],
      "source": [
        "valid_3_dist = mnist_distance(valid_3_tens,mean3)\n",
        "valid_3_dist, valid_3_dist.shape"
      ]
    },
    {
      "cell_type": "markdown",
      "metadata": {
        "id": "qvZxw17Dpx8b"
      },
      "source": [
        "We get a rank-1 tensor of length 1010. How did this happen?\n",
        "\n",
        "In the subtraction operation `a-b`, PyTorch did *broadcasting* to make the smaller rank tensor (in this case `mean3`) have the same size as the larger rank one. This doesn't actually involve copying the smaller tensor multiple times (this would take up tons of memory); it just pretends to give a tensor of the desried shape. The whole calculation is done in C, or CUDA for GPUs. \n",
        "\n",
        "Let's now define a function for checking is an image is closer to the ideal 3 or ideal 7."
      ]
    },
    {
      "cell_type": "code",
      "execution_count": null,
      "metadata": {
        "id": "Qjn-RGtDqxYR"
      },
      "outputs": [],
      "source": [
        "def is_3(x): return mnist_distance(x,mean3) < mnist_distance(x,mean7)"
      ]
    },
    {
      "cell_type": "code",
      "execution_count": null,
      "metadata": {
        "colab": {
          "base_uri": "https://localhost:8080/"
        },
        "id": "ls02fIodq7XD",
        "outputId": "e3044043-96cc-46bf-91b7-ca12e0d3941e"
      },
      "outputs": [],
      "source": [
        "is_3(a_3), is_3(a_3).float()"
      ]
    },
    {
      "cell_type": "code",
      "execution_count": null,
      "metadata": {
        "colab": {
          "base_uri": "https://localhost:8080/"
        },
        "id": "7uBHWrcerAnT",
        "outputId": "b6496829-aaec-455e-865c-54424b736fcd"
      },
      "outputs": [],
      "source": [
        "is_3(valid_3_tens)"
      ]
    },
    {
      "cell_type": "markdown",
      "metadata": {
        "id": "rRP4X7CUrCUS"
      },
      "source": [
        "Now let's calculate the accuracy."
      ]
    },
    {
      "cell_type": "code",
      "execution_count": null,
      "metadata": {
        "colab": {
          "base_uri": "https://localhost:8080/"
        },
        "id": "FhGVkmQDrTqM",
        "outputId": "a2b2397f-249f-4403-ce71-4ff7f41bd420"
      },
      "outputs": [],
      "source": [
        "accuracy_3s = is_3(valid_3_tens).float().mean()\n",
        "accuracy_7s = (1 - is_3(valid_7_tens).float()).mean()\n",
        "\n",
        "accuracy_3s, accuracy_7s, (accuracy_3s + accuracy_7s)/2"
      ]
    },
    {
      "cell_type": "markdown",
      "metadata": {
        "id": "4tBjLfjRrjuj"
      },
      "source": [
        "## Stochastic Gradient Descent"
      ]
    },
    {
      "cell_type": "markdown",
      "metadata": {
        "id": "pBq4qWNFr9Cw"
      },
      "source": [
        "Instead of looking at similarities between an image and an ideal image, we can try to figure out parameters relating to each pixel. The highest weights are associated with a particular category."
      ]
    },
    {
      "cell_type": "markdown",
      "metadata": {
        "id": "BHfr8Fxft3KU"
      },
      "source": [
        "Training a model follows the rough process below:\n",
        "- Initialise: typically set the parameters to random values\n",
        "- Loss: small if the model does well, large if it does poorly\n",
        "- Step: to change the parameters based on the loss and using calculus\n",
        "- Stop: decide how many epochs to the train the model (e.g. by iterating the training process until you don't want to wait any longer, or if the model is already good enough)"
      ]
    },
    {
      "cell_type": "markdown",
      "metadata": {
        "id": "fV8wyYUKuyXl"
      },
      "source": [
        "Potentially confusing point: in deep learning, \"gradients\" typically mean the *value* of a function's derivative for a given argument, rather than the function itself. \n",
        "\n",
        "PyTorch calculates derivatives really quickly, and automatically. "
      ]
    },
    {
      "cell_type": "code",
      "execution_count": null,
      "metadata": {
        "id": "hJotgdHhwi2J"
      },
      "outputs": [],
      "source": [
        "def f(x): return x**2"
      ]
    },
    {
      "cell_type": "code",
      "execution_count": null,
      "metadata": {
        "id": "fAiun-4ywXeO"
      },
      "outputs": [],
      "source": [
        "xt = tensor(3.).requires_grad_() # tells PyTorch to calculate gradients"
      ]
    },
    {
      "cell_type": "code",
      "execution_count": null,
      "metadata": {
        "colab": {
          "base_uri": "https://localhost:8080/"
        },
        "id": "zlArkOZVweh7",
        "outputId": "4ef07e82-50db-4e3f-d2c2-212599fdd576"
      },
      "outputs": [],
      "source": [
        "yt = f(xt)\n",
        "yt"
      ]
    },
    {
      "cell_type": "code",
      "execution_count": null,
      "metadata": {
        "id": "q-e77abNwfxn"
      },
      "outputs": [],
      "source": [
        "yt.backward() # backprop"
      ]
    },
    {
      "cell_type": "code",
      "execution_count": null,
      "metadata": {
        "colab": {
          "base_uri": "https://localhost:8080/"
        },
        "id": "htEKaKAlwz-a",
        "outputId": "29f6f16a-8813-4c0a-ef0c-06931787195c"
      },
      "outputs": [],
      "source": [
        "# view gradients\n",
        "xt.grad"
      ]
    },
    {
      "cell_type": "code",
      "execution_count": null,
      "metadata": {
        "colab": {
          "base_uri": "https://localhost:8080/"
        },
        "id": "qQ_kDIg9w11Z",
        "outputId": "83f68bf4-1944-4273-a50e-51b21c6eee36"
      },
      "outputs": [],
      "source": [
        "# repeat previous steps with a vector argument\n",
        "xt = tensor([3., 4., 10.]).requires_grad_()\n",
        "xt"
      ]
    },
    {
      "cell_type": "code",
      "execution_count": null,
      "metadata": {
        "colab": {
          "base_uri": "https://localhost:8080/"
        },
        "id": "seV9qcbYw-O1",
        "outputId": "dc2c76ae-7cdb-47e5-d433-db8966d813f8"
      },
      "outputs": [],
      "source": [
        "def f(x): return (x**2).sum()\n",
        "\n",
        "yt = f(xt)\n",
        "yt"
      ]
    },
    {
      "cell_type": "code",
      "execution_count": null,
      "metadata": {
        "colab": {
          "base_uri": "https://localhost:8080/"
        },
        "id": "csXpaJ83xRH4",
        "outputId": "b85ac5ce-a4b0-4a48-83d2-2020b84d6e73"
      },
      "outputs": [],
      "source": [
        "yt.backward()\n",
        "xt.grad"
      ]
    },
    {
      "cell_type": "code",
      "execution_count": null,
      "metadata": {
        "colab": {
          "base_uri": "https://localhost:8080/"
        },
        "id": "lANY-wjcxUWB",
        "outputId": "77a189fa-1c3d-46e3-ac46-c0c0f799f276"
      },
      "outputs": [],
      "source": [
        "xt"
      ]
    },
    {
      "cell_type": "markdown",
      "metadata": {
        "id": "eAJlHpiPxWPf"
      },
      "source": [
        "### End-to-end example"
      ]
    },
    {
      "cell_type": "markdown",
      "metadata": {
        "id": "ngaHBAMmxw9Q"
      },
      "source": [
        "Imagine measuring the speed of a roller coaster as it goes over the top of a hump. How doees it change over time? Let's measure speed manually every second for 20 seconds."
      ]
    },
    {
      "cell_type": "code",
      "execution_count": null,
      "metadata": {
        "colab": {
          "base_uri": "https://localhost:8080/"
        },
        "id": "llV6sg_myYgA",
        "outputId": "e040a1f0-c169-4d08-d410-cd5d4b24dd9a"
      },
      "outputs": [],
      "source": [
        "time = torch.arange(0,20).float(); time"
      ]
    },
    {
      "cell_type": "code",
      "execution_count": null,
      "metadata": {
        "colab": {
          "base_uri": "https://localhost:8080/",
          "height": 265
        },
        "id": "PDPr3gv7ybe4",
        "outputId": "4e2fcdf2-662e-456e-986a-83ce7c318215"
      },
      "outputs": [],
      "source": [
        "speed = torch.randn(20)*3 + 0.75*(time-9.5)**2 + 1\n",
        "plt.scatter(time, speed);"
      ]
    },
    {
      "cell_type": "markdown",
      "metadata": {
        "id": "YrANnbLRyh-y"
      },
      "source": [
        "Now we use SGD and assume a speed function that is quadratic in time."
      ]
    },
    {
      "cell_type": "code",
      "execution_count": null,
      "metadata": {
        "id": "CIWXv6oTypS3"
      },
      "outputs": [],
      "source": [
        "# clearly separate the function's input and its parameters\n",
        "def f(t, params):\n",
        "  a,b,c = params\n",
        "  return a*(t**2) + (b*t) + c"
      ]
    },
    {
      "cell_type": "code",
      "execution_count": null,
      "metadata": {
        "id": "M6y0kEH3y1x9"
      },
      "outputs": [],
      "source": [
        "# MSE is common for continuous data\n",
        "def mse(preds, targets): return ((preds - targets)**2).mean().sqrt()"
      ]
    },
    {
      "cell_type": "markdown",
      "metadata": {
        "id": "8xN713PnzD8F"
      },
      "source": [
        "Step 1: initialise the parameters"
      ]
    },
    {
      "cell_type": "code",
      "execution_count": null,
      "metadata": {
        "id": "ARmeheWSzG1h"
      },
      "outputs": [],
      "source": [
        "params = torch.randn(3).requires_grad_()"
      ]
    },
    {
      "cell_type": "code",
      "execution_count": null,
      "metadata": {
        "id": "CtmQzmix0SHU"
      },
      "outputs": [],
      "source": [
        "orig_params = params.clone()"
      ]
    },
    {
      "cell_type": "markdown",
      "metadata": {
        "id": "KUE4NaXC0UVi"
      },
      "source": [
        "Step 2: calculate predictions"
      ]
    },
    {
      "cell_type": "code",
      "execution_count": null,
      "metadata": {
        "id": "k8I4Xv5s0nol"
      },
      "outputs": [],
      "source": [
        "preds = f(time, params)"
      ]
    },
    {
      "cell_type": "code",
      "execution_count": null,
      "metadata": {
        "id": "6lMPlz2d0Yd-"
      },
      "outputs": [],
      "source": [
        "def show_preds(preds, ax=None):\n",
        "  if ax is None: ax=plt.subplots()[1]\n",
        "  ax.scatter(time, speed)\n",
        "  ax.scatter(time, to_np(preds), color=\"red\")\n",
        "  ax.set_ylim(-300,100)"
      ]
    },
    {
      "cell_type": "code",
      "execution_count": null,
      "metadata": {
        "colab": {
          "base_uri": "https://localhost:8080/",
          "height": 268
        },
        "id": "UKWY07-y0jWQ",
        "outputId": "93cb3718-3b3c-4073-86a0-8d96eb2c7587"
      },
      "outputs": [],
      "source": [
        "show_preds(preds)"
      ]
    },
    {
      "cell_type": "markdown",
      "metadata": {
        "id": "abTtD4PN0kps"
      },
      "source": [
        "Step 3: calculate the loss"
      ]
    },
    {
      "cell_type": "code",
      "execution_count": null,
      "metadata": {
        "colab": {
          "base_uri": "https://localhost:8080/"
        },
        "id": "lAg1Z_b-0vW7",
        "outputId": "92135abb-db55-409d-846d-e876c26e88d4"
      },
      "outputs": [],
      "source": [
        "loss = mse(preds, speed)\n",
        "loss"
      ]
    },
    {
      "cell_type": "markdown",
      "metadata": {
        "id": "efWpai5B0w7I"
      },
      "source": [
        "Step 4: calculate the gradients"
      ]
    },
    {
      "cell_type": "code",
      "execution_count": null,
      "metadata": {
        "colab": {
          "base_uri": "https://localhost:8080/"
        },
        "id": "YmmuN6v42TIN",
        "outputId": "2a367f1f-b91f-49cf-d9e1-10796e6626e7"
      },
      "outputs": [],
      "source": [
        "loss.backward()\n",
        "params.grad"
      ]
    },
    {
      "cell_type": "code",
      "execution_count": null,
      "metadata": {
        "colab": {
          "base_uri": "https://localhost:8080/"
        },
        "id": "41nYMjmr2Wu-",
        "outputId": "254dc12d-3cec-490e-f3ad-a350dbb3e4a2"
      },
      "outputs": [],
      "source": [
        "params.grad * 1e-3"
      ]
    },
    {
      "cell_type": "code",
      "execution_count": null,
      "metadata": {
        "colab": {
          "base_uri": "https://localhost:8080/"
        },
        "id": "DaM9BByC2Y9Y",
        "outputId": "91c1e42a-1f15-4c8d-dcc9-52c479671819"
      },
      "outputs": [],
      "source": [
        "params"
      ]
    },
    {
      "cell_type": "markdown",
      "metadata": {
        "id": "yRSm-uYY2dMD"
      },
      "source": [
        "Step 5: step the weights"
      ]
    },
    {
      "cell_type": "code",
      "execution_count": null,
      "metadata": {
        "id": "WgB_hGZQ2g1_"
      },
      "outputs": [],
      "source": [
        "lr = 1e-3\n",
        "params.data -= lr * params.grad.data\n",
        "params.grad = None\n",
        "\n",
        "# this requires function composition, \n",
        "# which allows us to do backprop via the chain rule"
      ]
    },
    {
      "cell_type": "code",
      "execution_count": null,
      "metadata": {
        "colab": {
          "base_uri": "https://localhost:8080/"
        },
        "id": "Vx4-2eCE3AIh",
        "outputId": "6a2bbcb0-37b2-4738-8768-406eaa514822"
      },
      "outputs": [],
      "source": [
        "preds = f(time, params)\n",
        "mse(preds, speed)"
      ]
    },
    {
      "cell_type": "code",
      "execution_count": null,
      "metadata": {
        "colab": {
          "base_uri": "https://localhost:8080/",
          "height": 268
        },
        "id": "mktK8VvX3k4O",
        "outputId": "11b835ca-c363-43de-f7be-89c63c0ab79f"
      },
      "outputs": [],
      "source": [
        "show_preds(preds)"
      ]
    },
    {
      "cell_type": "code",
      "execution_count": null,
      "metadata": {
        "id": "cCc3L98S3ocC"
      },
      "outputs": [],
      "source": [
        "# define function to repeatedly apply the above process\n",
        "def apply_step(params, prn=True):\n",
        "  preds = f(time, params)\n",
        "  loss = mse(preds, speed)\n",
        "  loss.backward()\n",
        "  params.data -= lr * params.grad.data \n",
        "  params.grad = None\n",
        "  if prn: print(loss.item())\n",
        "  return preds"
      ]
    },
    {
      "cell_type": "markdown",
      "metadata": {
        "id": "1L0UGtuc37fF"
      },
      "source": [
        "Step 6: repeat"
      ]
    },
    {
      "cell_type": "code",
      "execution_count": null,
      "metadata": {
        "colab": {
          "base_uri": "https://localhost:8080/"
        },
        "id": "qEMWK6903-ee",
        "outputId": "51168465-6fff-44a9-8cc8-6da1f236ded4"
      },
      "outputs": [],
      "source": [
        "for i in range(10): apply_step(params)"
      ]
    },
    {
      "cell_type": "code",
      "execution_count": null,
      "metadata": {
        "id": "ZI_WOi1r4A78"
      },
      "outputs": [],
      "source": [
        "params = orig_params.detach().requires_grad_()"
      ]
    },
    {
      "cell_type": "code",
      "execution_count": null,
      "metadata": {
        "colab": {
          "base_uri": "https://localhost:8080/",
          "height": 205
        },
        "id": "ZvZbaZw34IAq",
        "outputId": "e83a6781-7674-4182-e808-33d2b622775f"
      },
      "outputs": [],
      "source": [
        "# show visually\n",
        "_,axs = plt.subplots(1,4,figsize=(12,3))\n",
        "for ax in axs: show_preds(apply_step(params, False),ax)\n",
        "plt.tight_layout()"
      ]
    },
    {
      "cell_type": "markdown",
      "metadata": {
        "id": "m4L981NP4Qtz"
      },
      "source": [
        "Step 7: stop  \n",
        "In practice we would do this using training and validation losses. "
      ]
    },
    {
      "cell_type": "markdown",
      "metadata": {
        "id": "pfaj38zK4YOV"
      },
      "source": [
        "## The MNIST Loss Function"
      ]
    },
    {
      "cell_type": "markdown",
      "metadata": {
        "id": "2jJEUIuD5uTC"
      },
      "source": [
        "We want to apply SGD to MNIST, but we'll need a different loss function. What should we use?"
      ]
    },
    {
      "cell_type": "code",
      "execution_count": null,
      "metadata": {
        "id": "s3nQu2J44hj4"
      },
      "outputs": [],
      "source": [
        "train_x = torch.cat([stacked_threes, stacked_sevens]).view(-1, 28*28)"
      ]
    },
    {
      "cell_type": "code",
      "execution_count": null,
      "metadata": {
        "colab": {
          "base_uri": "https://localhost:8080/"
        },
        "id": "SlJ9Ay1T4s2W",
        "outputId": "b6ab3a78-d82f-46bf-beb6-ceafbfac8f9e"
      },
      "outputs": [],
      "source": [
        "# define labels for images - 1 for 3s and 0 for 7s\n",
        "train_y = tensor([1]*len(threes) + [0]*len(sevens)).unsqueeze(1)\n",
        "train_x.shape, train_y.shape"
      ]
    },
    {
      "cell_type": "markdown",
      "metadata": {
        "id": "nKb1h2Fm6WBc"
      },
      "source": [
        "Let's turn this into a dataset of IDV, DV pairs."
      ]
    },
    {
      "cell_type": "code",
      "execution_count": null,
      "metadata": {
        "colab": {
          "base_uri": "https://localhost:8080/"
        },
        "id": "_p98AbEp48dR",
        "outputId": "7611c830-8495-4b92-a199-e97d00bc133d"
      },
      "outputs": [],
      "source": [
        "dset = list(zip(train_x,train_y))\n",
        "x,y = dset[0]\n",
        "x.shape, y"
      ]
    },
    {
      "cell_type": "code",
      "execution_count": null,
      "metadata": {
        "id": "MugxS_7B6SM9"
      },
      "outputs": [],
      "source": [
        "valid_x = torch.cat([valid_3_tens, valid_7_tens]).view(-1, 28*28)\n",
        "valid_y = tensor([1]*len(valid_3_tens) + [0]*len(valid_7_tens)).unsqueeze(1)\n",
        "valid_dset = list(zip(valid_x, valid_y))"
      ]
    },
    {
      "cell_type": "code",
      "execution_count": null,
      "metadata": {
        "id": "yEutZV136m2j"
      },
      "outputs": [],
      "source": [
        "# randomise weights\n",
        "def init_params(size, std=1.0): return (torch.randn(size)*std).requires_grad_()"
      ]
    },
    {
      "cell_type": "code",
      "execution_count": null,
      "metadata": {
        "id": "_rx7mJid62ec"
      },
      "outputs": [],
      "source": [
        "weights = init_params((28*28,1))"
      ]
    },
    {
      "cell_type": "code",
      "execution_count": null,
      "metadata": {
        "id": "UCqlrfh764ss"
      },
      "outputs": [],
      "source": [
        "bias = init_params(1)"
      ]
    },
    {
      "cell_type": "code",
      "execution_count": null,
      "metadata": {
        "colab": {
          "base_uri": "https://localhost:8080/"
        },
        "id": "7c63yTOZ7C6q",
        "outputId": "3373ce86-1f20-4c1c-d276-73b881f6998b"
      },
      "outputs": [],
      "source": [
        "# make prediction for one image y = wx+b\n",
        "(train_x[0]*weights.T).sum() + bias"
      ]
    },
    {
      "cell_type": "code",
      "execution_count": null,
      "metadata": {
        "colab": {
          "base_uri": "https://localhost:8080/"
        },
        "id": "0L85s6bL7HcI",
        "outputId": "2b8778b1-b075-4db4-ad6f-d94a651531fa"
      },
      "outputs": [],
      "source": [
        "# matrix multiplication for weights * pixels\n",
        "def linear1(xb): return xb@weights + bias\n",
        "preds = linear1(train_x)\n",
        "preds"
      ]
    },
    {
      "cell_type": "code",
      "execution_count": null,
      "metadata": {
        "colab": {
          "base_uri": "https://localhost:8080/"
        },
        "id": "eoLFOTCR7gbr",
        "outputId": "72f46842-5dba-4524-db2b-d9ee6213b68a"
      },
      "outputs": [],
      "source": [
        "# check accuracy - see if output is 3 or 7\n",
        "corrects = (preds>0.5).float() == train_y\n",
        "corrects"
      ]
    },
    {
      "cell_type": "code",
      "execution_count": null,
      "metadata": {
        "colab": {
          "base_uri": "https://localhost:8080/"
        },
        "id": "uxrsHvF08E7-",
        "outputId": "00ed43ec-af51-4c39-8148-7f9c7e7e6bb7"
      },
      "outputs": [],
      "source": [
        "corrects.float().mean().item()"
      ]
    },
    {
      "cell_type": "code",
      "execution_count": null,
      "metadata": {
        "id": "iXdtezbaIxTv"
      },
      "outputs": [],
      "source": [
        "trgts = tensor([1,0,1])\n",
        "prds = tensor([0.9,0.4,0.2])"
      ]
    },
    {
      "cell_type": "code",
      "execution_count": null,
      "metadata": {
        "id": "XOxK0ELeJgCb"
      },
      "outputs": [],
      "source": [
        "def mnist_loss(predictions, targets):\n",
        "  return torch.where(targets==1, 1-predictions, predictions).mean()"
      ]
    },
    {
      "cell_type": "code",
      "execution_count": null,
      "metadata": {
        "colab": {
          "base_uri": "https://localhost:8080/"
        },
        "id": "z8yJgY8aJ64X",
        "outputId": "5dfba4ea-52c3-4642-a03e-2bd6ca9c120e"
      },
      "outputs": [],
      "source": [
        "torch.where(trgts==1, 1-prds, prds)"
      ]
    },
    {
      "cell_type": "markdown",
      "metadata": {
        "id": "94mMV2EqJ9Ix"
      },
      "source": [
        "This measures how close the prediction is to 1 if it should be 1, and similarly for 0."
      ]
    },
    {
      "cell_type": "code",
      "execution_count": null,
      "metadata": {
        "colab": {
          "base_uri": "https://localhost:8080/"
        },
        "id": "Ke-QT19AKQs6",
        "outputId": "4fdeef5d-5734-47ad-bb6d-4890697264ca"
      },
      "outputs": [],
      "source": [
        "mnist_loss(prds,trgts)"
      ]
    },
    {
      "cell_type": "markdown",
      "metadata": {
        "id": "IjFQmbKhKVFN"
      },
      "source": [
        "What if the outputs aren't between 0 and 1? For this we can *ensure* that this happens using a sigmoid function. "
      ]
    },
    {
      "cell_type": "code",
      "execution_count": null,
      "metadata": {
        "colab": {
          "base_uri": "https://localhost:8080/",
          "height": 281
        },
        "id": "mpWztmS3KlX7",
        "outputId": "df1ba108-41ff-4982-ce14-19f1b6d038b5"
      },
      "outputs": [],
      "source": [
        "plot_function(torch.sigmoid, title=\"Sigmoid\", min=-4, max=4);"
      ]
    },
    {
      "cell_type": "markdown",
      "metadata": {
        "id": "tCFMjWR3K4Vm"
      },
      "source": [
        "Let's update our function based on this."
      ]
    },
    {
      "cell_type": "code",
      "execution_count": null,
      "metadata": {
        "id": "_WXSWliXKuJ2"
      },
      "outputs": [],
      "source": [
        "def mnist_loss(predictions, targets):\n",
        "  predictions = predictions.sigmoid()\n",
        "  return torch.where(targets==1, 1-predictions, predictions).mean()"
      ]
    },
    {
      "cell_type": "markdown",
      "metadata": {
        "id": "XgSTLixXK2sX"
      },
      "source": [
        "Notice that this loss function is smooth, so it has a meaningful derivative and can be used to update the model's parameters. "
      ]
    },
    {
      "cell_type": "markdown",
      "metadata": {
        "id": "tzzawECSLI-t"
      },
      "source": [
        "To do minibatch gradient descent, we want to shuffle the dataset. This is done in the `DataLoader`."
      ]
    },
    {
      "cell_type": "code",
      "execution_count": null,
      "metadata": {
        "colab": {
          "base_uri": "https://localhost:8080/"
        },
        "id": "JvAlwnV_MUN_",
        "outputId": "7e8647f5-9c44-4750-b36e-5d27f575c2d9"
      },
      "outputs": [],
      "source": [
        "col1 = range(15)\n",
        "dl = DataLoader(col1, batch_size=5, shuffle=True)\n",
        "list(dl)"
      ]
    },
    {
      "cell_type": "code",
      "execution_count": null,
      "metadata": {
        "colab": {
          "base_uri": "https://localhost:8080/"
        },
        "id": "RZ3Jsev5MYen",
        "outputId": "f8ec5a65-90e5-4a1a-98cd-c686306b03fe"
      },
      "outputs": [],
      "source": [
        "ds = L(enumerate(string.ascii_lowercase))\n",
        "ds"
      ]
    },
    {
      "cell_type": "code",
      "execution_count": null,
      "metadata": {
        "colab": {
          "base_uri": "https://localhost:8080/"
        },
        "id": "FPelVfLAMi2c",
        "outputId": "c12da958-338b-4632-e70d-d184b69d0595"
      },
      "outputs": [],
      "source": [
        "dl = DataLoader(ds, batch_size=6, shuffle=True)\n",
        "list(dl)"
      ]
    },
    {
      "cell_type": "markdown",
      "metadata": {
        "id": "Fr9ubx0XMnXA"
      },
      "source": [
        "## Putting it all together"
      ]
    },
    {
      "cell_type": "code",
      "execution_count": null,
      "metadata": {
        "id": "1V8RREk_MvPA"
      },
      "outputs": [],
      "source": [
        "# reinitialise params\n",
        "weights = init_params((28*28,1))\n",
        "bias = init_params(1)"
      ]
    },
    {
      "cell_type": "code",
      "execution_count": null,
      "metadata": {
        "colab": {
          "base_uri": "https://localhost:8080/"
        },
        "id": "Zu56scc2M_pa",
        "outputId": "65f075aa-37eb-43cf-e02a-f9a5c7a113e8"
      },
      "outputs": [],
      "source": [
        "dl = DataLoader(dset, batch_size=256)\n",
        "xb,yb = first(dl)\n",
        "xb.shape, yb.shape"
      ]
    },
    {
      "cell_type": "code",
      "execution_count": null,
      "metadata": {
        "id": "58abUoxrNF1n"
      },
      "outputs": [],
      "source": [
        "# dataloader for validation set\n",
        "valid_dl = DataLoader(valid_dset, batch_size=256)"
      ]
    },
    {
      "cell_type": "code",
      "execution_count": null,
      "metadata": {
        "colab": {
          "base_uri": "https://localhost:8080/"
        },
        "id": "7FZh1isrNaqq",
        "outputId": "f30e9f5d-b4b6-4075-a7e6-1823f3297e75"
      },
      "outputs": [],
      "source": [
        "batch = train_x[:4]\n",
        "batch.shape"
      ]
    },
    {
      "cell_type": "code",
      "execution_count": null,
      "metadata": {
        "colab": {
          "base_uri": "https://localhost:8080/"
        },
        "id": "244q9GuONcoj",
        "outputId": "bb565c74-5dc7-4d2c-fd2e-53e46e373d5e"
      },
      "outputs": [],
      "source": [
        "preds = linear1(batch)\n",
        "preds"
      ]
    },
    {
      "cell_type": "code",
      "execution_count": null,
      "metadata": {
        "colab": {
          "base_uri": "https://localhost:8080/"
        },
        "id": "XiXti8riNe1F",
        "outputId": "c36598b0-47e2-4691-a678-217a95bdc783"
      },
      "outputs": [],
      "source": [
        "loss = mnist_loss(preds, train_y[:4])\n",
        "loss"
      ]
    },
    {
      "cell_type": "code",
      "execution_count": null,
      "metadata": {
        "colab": {
          "base_uri": "https://localhost:8080/"
        },
        "id": "od21TZGtO3jb",
        "outputId": "82c82d56-9cf8-4e76-e353-212b0608eacf"
      },
      "outputs": [],
      "source": [
        "loss.backward()\n",
        "weights.grad.shape,weights.grad.mean(),bias.grad"
      ]
    },
    {
      "cell_type": "code",
      "execution_count": null,
      "metadata": {
        "id": "Ll61-4nlO-Td"
      },
      "outputs": [],
      "source": [
        "def calc_grad(xb,yb,model):\n",
        "  preds = model(xb)\n",
        "  loss = mnist_loss(preds, yb)\n",
        "  loss.backward()"
      ]
    },
    {
      "cell_type": "code",
      "execution_count": null,
      "metadata": {
        "colab": {
          "base_uri": "https://localhost:8080/"
        },
        "id": "Ro4m0WhEPFX4",
        "outputId": "a3694ed2-f54f-4c0a-c362-2e61d12b9a93"
      },
      "outputs": [],
      "source": [
        "calc_grad(batch,train_y[:4],linear1)\n",
        "weights.grad.mean(),bias.grad"
      ]
    },
    {
      "cell_type": "code",
      "execution_count": null,
      "metadata": {
        "colab": {
          "base_uri": "https://localhost:8080/"
        },
        "id": "JTyAvebzPKMe",
        "outputId": "a73914c1-837e-4702-a29e-bc025f5bf381"
      },
      "outputs": [],
      "source": [
        "calc_grad(batch,train_y[:4],linear1)\n",
        "weights.grad.mean(),bias.grad"
      ]
    },
    {
      "cell_type": "code",
      "execution_count": null,
      "metadata": {
        "id": "AKQPSt-oPORj"
      },
      "outputs": [],
      "source": [
        "# we need to set the gradients to zero first,\n",
        "# else loss.backward adds the gradients to stored gradients\n",
        "weights.grad.zero_()\n",
        "bias.grad.zero_();"
      ]
    },
    {
      "cell_type": "code",
      "execution_count": null,
      "metadata": {
        "id": "FOi6uFvXPaJH"
      },
      "outputs": [],
      "source": [
        "def train_epoch(model, lr, params):\n",
        "  for xb,yb in dl:\n",
        "    calc_grad(xb,yb,model)\n",
        "    for p in params:\n",
        "      p.data -= p.grad*lr\n",
        "      p.grad.zero_()"
      ]
    },
    {
      "cell_type": "code",
      "execution_count": null,
      "metadata": {
        "id": "WxVnzKxwPkFF"
      },
      "outputs": [],
      "source": [
        "# check accuracy on validation set\n",
        "def batch_accuracy(xb, yb):\n",
        "  preds = xb.sigmoid()\n",
        "  correct = (preds>0.5) == yb\n",
        "  return correct.float().mean()"
      ]
    },
    {
      "cell_type": "code",
      "execution_count": null,
      "metadata": {
        "colab": {
          "base_uri": "https://localhost:8080/"
        },
        "id": "hg7aeag9Pwg4",
        "outputId": "941183a5-8d77-4cec-edd4-fe71d67c8364"
      },
      "outputs": [],
      "source": [
        "batch_accuracy(linear1(batch), train_y[:4])"
      ]
    },
    {
      "cell_type": "code",
      "execution_count": null,
      "metadata": {
        "id": "naGR2JokPz-4"
      },
      "outputs": [],
      "source": [
        "def validate_epoch(model):\n",
        "  accs = [batch_accuracy(model(xb), yb) for xb, yb in valid_dl]\n",
        "  return round(torch.stack(accs).mean().item(),4)"
      ]
    },
    {
      "cell_type": "code",
      "execution_count": null,
      "metadata": {
        "colab": {
          "base_uri": "https://localhost:8080/"
        },
        "id": "iekBao3TP-6C",
        "outputId": "26cfa705-6b09-473b-b9b6-aa3df887a7de"
      },
      "outputs": [],
      "source": [
        "validate_epoch(linear1)"
      ]
    },
    {
      "cell_type": "code",
      "execution_count": null,
      "metadata": {
        "colab": {
          "base_uri": "https://localhost:8080/"
        },
        "id": "vyEwh2JbQAHO",
        "outputId": "fbbaf8fe-7e1a-4878-a80d-40004516347f"
      },
      "outputs": [],
      "source": [
        "# start training for an epoch and\n",
        "# see if accuracy changes\n",
        "lr = 1.\n",
        "params = weights, bias\n",
        "train_epoch(linear1, lr, params)\n",
        "validate_epoch(linear1)"
      ]
    },
    {
      "cell_type": "code",
      "execution_count": null,
      "metadata": {
        "colab": {
          "base_uri": "https://localhost:8080/"
        },
        "id": "6Fykj2eVQNhb",
        "outputId": "757fa710-3d09-40a4-b63f-e1a8ca69345e"
      },
      "outputs": [],
      "source": [
        "for i in range(20):\n",
        "  train_epoch(linear1,lr,params)\n",
        "  print(validate_epoch(linear1), end=\" \")"
      ]
    },
    {
      "cell_type": "markdown",
      "metadata": {
        "id": "YE81I9W-QTcc"
      },
      "source": [
        "## Creating an optimiser"
      ]
    },
    {
      "cell_type": "code",
      "execution_count": null,
      "metadata": {
        "id": "Sel-QczOQjZ4"
      },
      "outputs": [],
      "source": [
        "linear_model = nn.Linear(28*28, 1)"
      ]
    },
    {
      "cell_type": "code",
      "execution_count": null,
      "metadata": {
        "colab": {
          "base_uri": "https://localhost:8080/"
        },
        "id": "keVpQ-d9Q68D",
        "outputId": "082bf3d7-6805-4c37-a69e-eef3097afa40"
      },
      "outputs": [],
      "source": [
        "w,b = linear_model.parameters()\n",
        "w.shape, b.shape"
      ]
    },
    {
      "cell_type": "code",
      "execution_count": null,
      "metadata": {
        "id": "Q2UaMTn8RAL0"
      },
      "outputs": [],
      "source": [
        "# use the above info to make the optimiser\n",
        "class BasicOptim: \n",
        "  def __init__(self, params, lr): self.params, self.lr = list(params), lr\n",
        "\n",
        "  def step(self, *args, **kwargs):\n",
        "    for p in self.params: p.data -= p.grad.data * self.lr \n",
        "  \n",
        "  def zero_grad(self, *args, **kwargs):\n",
        "    for p in self.params: p.grad = None"
      ]
    },
    {
      "cell_type": "code",
      "execution_count": null,
      "metadata": {
        "id": "L-ZLRL3iR_Ri"
      },
      "outputs": [],
      "source": [
        "opt = BasicOptim(linear_model.parameters(), lr)"
      ]
    },
    {
      "cell_type": "code",
      "execution_count": null,
      "metadata": {
        "id": "3EwCJrjbSMdJ"
      },
      "outputs": [],
      "source": [
        "def train_epoch(model):\n",
        "  for xb, yb in dl:\n",
        "    calc_grad(xb, yb, model)\n",
        "    opt.step()\n",
        "    opt.zero_grad()"
      ]
    },
    {
      "cell_type": "code",
      "execution_count": null,
      "metadata": {
        "colab": {
          "base_uri": "https://localhost:8080/"
        },
        "id": "UGaGsRC3SRYT",
        "outputId": "d5d4af73-1fc5-4093-f037-e35051dc74ff"
      },
      "outputs": [],
      "source": [
        "validate_epoch(linear_model)"
      ]
    },
    {
      "cell_type": "code",
      "execution_count": null,
      "metadata": {
        "id": "pcXja00hSUII"
      },
      "outputs": [],
      "source": [
        "def train_model(model, epochs):\n",
        "  for i in range(epochs):\n",
        "    train_epoch(model)\n",
        "    print(validate_epoch(model), end = \" \")"
      ]
    },
    {
      "cell_type": "code",
      "execution_count": null,
      "metadata": {
        "colab": {
          "base_uri": "https://localhost:8080/"
        },
        "id": "JpPnEikaSdOc",
        "outputId": "0b45e545-e4e1-4f72-a492-caf977e07e83"
      },
      "outputs": [],
      "source": [
        "train_model(linear_model, 20)"
      ]
    },
    {
      "cell_type": "code",
      "execution_count": null,
      "metadata": {
        "colab": {
          "base_uri": "https://localhost:8080/"
        },
        "id": "IwHbPUxWSfH9",
        "outputId": "f8fafb7d-bd2f-4c40-a9af-a217b67c5abd"
      },
      "outputs": [],
      "source": [
        "# try using fastai's SGD class\n",
        "linear_model = nn.Linear(28*28, 1)\n",
        "opt = SGD(linear_model.parameters(), lr)\n",
        "train_model(linear_model, 20)"
      ]
    },
    {
      "cell_type": "markdown",
      "metadata": {
        "id": "bPsGI6KhSqqo"
      },
      "source": [
        "Alternative approach: use `Learner.fit` instead of `train_model`."
      ]
    },
    {
      "cell_type": "code",
      "execution_count": null,
      "metadata": {
        "id": "8t-GmyrySzPn"
      },
      "outputs": [],
      "source": [
        "dls = DataLoaders(dl, valid_dl)"
      ]
    },
    {
      "cell_type": "code",
      "execution_count": null,
      "metadata": {
        "id": "wu159_nSS3GY"
      },
      "outputs": [],
      "source": [
        "learn = Learner(dls, nn.Linear(28*28,1), opt_func=SGD, loss_func=mnist_loss, metrics=batch_accuracy)"
      ]
    },
    {
      "cell_type": "code",
      "execution_count": null,
      "metadata": {
        "colab": {
          "base_uri": "https://localhost:8080/",
          "height": 362
        },
        "id": "lii4ClCQS9M0",
        "outputId": "fe67ffee-a695-46b2-ded7-b9ca3cf1195b"
      },
      "outputs": [],
      "source": [
        "learn.fit(10, lr=lr)"
      ]
    },
    {
      "cell_type": "markdown",
      "metadata": {
        "id": "cK6D3pc5S-fJ"
      },
      "source": [
        "## Adding nonlinearity"
      ]
    },
    {
      "cell_type": "markdown",
      "metadata": {
        "id": "FLEki6gETL-6"
      },
      "source": [
        "Instead of a linear classifier, let's use a neural net"
      ]
    },
    {
      "cell_type": "code",
      "execution_count": null,
      "metadata": {
        "id": "rEW58XZsTGWN"
      },
      "outputs": [],
      "source": [
        "def simple_net(xb):\n",
        "  res = xb@w1 + b1\n",
        "  res = res.max(tensor(0.0))\n",
        "  res = res@w2 + b2\n",
        "  return res"
      ]
    },
    {
      "cell_type": "code",
      "execution_count": null,
      "metadata": {
        "id": "_nApS6beTXAT"
      },
      "outputs": [],
      "source": [
        "w1 = init_params((28*28,30))\n",
        "b1 = init_params(30)\n",
        "w2 = init_params((30,1))\n",
        "b2 = init_params(1)"
      ]
    },
    {
      "cell_type": "code",
      "execution_count": null,
      "metadata": {
        "colab": {
          "base_uri": "https://localhost:8080/",
          "height": 265
        },
        "id": "4LXLZJubTfq5",
        "outputId": "b2aa5ecc-3d14-4ec4-e410-aaacc82cd1fa"
      },
      "outputs": [],
      "source": [
        "# introduce nonlinearity using ReLU\n",
        "plot_function(F.relu)"
      ]
    },
    {
      "cell_type": "code",
      "execution_count": null,
      "metadata": {
        "id": "-DNlJ0aDTmAZ"
      },
      "outputs": [],
      "source": [
        "simple_net = nn.Sequential(\n",
        "    nn.Linear(28*28,30),\n",
        "    nn.ReLU(),\n",
        "    nn.Linear(30,1)\n",
        ")"
      ]
    },
    {
      "cell_type": "code",
      "execution_count": null,
      "metadata": {
        "id": "YZYI8W_VT2Js"
      },
      "outputs": [],
      "source": [
        "learn = Learner(dls, simple_net, opt_func=SGD, loss_func=mnist_loss, metrics=batch_accuracy)"
      ]
    },
    {
      "cell_type": "code",
      "execution_count": null,
      "metadata": {
        "colab": {
          "base_uri": "https://localhost:8080/",
          "height": 1000
        },
        "id": "rauFuSzMT9bw",
        "outputId": "c69ac2b7-bd4a-4929-ff74-9484cd077da3"
      },
      "outputs": [],
      "source": [
        "learn.fit(40, 0.1)"
      ]
    },
    {
      "cell_type": "code",
      "execution_count": null,
      "metadata": {
        "colab": {
          "base_uri": "https://localhost:8080/",
          "height": 266
        },
        "id": "pNigjQrST_H6",
        "outputId": "e3809331-5642-4d2c-99cc-7daef97d1411"
      },
      "outputs": [],
      "source": [
        "plt.plot(L(learn.recorder.values).itemgot(2));"
      ]
    },
    {
      "cell_type": "code",
      "execution_count": null,
      "metadata": {
        "colab": {
          "base_uri": "https://localhost:8080/"
        },
        "id": "-2CGJXyAUHwN",
        "outputId": "f0a9fb20-0757-4050-911a-668364bebba1"
      },
      "outputs": [],
      "source": [
        "# final accuracy\n",
        "learn.recorder.values[-1][2]"
      ]
    },
    {
      "cell_type": "markdown",
      "metadata": {
        "id": "p3I61VwEUMXw"
      },
      "source": [
        "We can add as many linear layers as we want, as long as we add nonlinearities between them."
      ]
    },
    {
      "cell_type": "markdown",
      "metadata": {
        "id": "MY0vc2rdUcUA"
      },
      "source": [
        "## Questionnaire"
      ]
    },
    {
      "cell_type": "markdown",
      "metadata": {
        "id": "uw-duPwdUq7T"
      },
      "source": [
        "1. **How is a grayscale image represented on a computer? How about a color image?**  \n",
        "Grayscale images are stored in arrays, where each pixel has a single value. For colour images, this is typically three values instead, representing red, green and blue.\n",
        "\n",
        "1. **How are the files and folders in the `MNIST_SAMPLE` dataset structured? Why?**  \n",
        "Separate folders for the training and validation sets, which are further separated into categories (based on the number in the image).\n",
        "\n",
        "1. **Explain how the \"pixel similarity\" approach to classifying digits works.**  \n",
        "It takes all the images of a particular number and takes the mean of their pixel values to get an \"ideal image\". To classify an image, subtract the image's pixel values from the ideal image's pixel values - the category with the smallest difference is chosen as the prediction.\n",
        "\n",
        "1. **What is a \"rank-3 tensor\"?**  \n",
        "A tensor with \"three layers of nested lists\"\n",
        "\n",
        "1. **What is the difference between tensor rank and shape? How do you get the rank from the shape?**  \n",
        "Tensor rank is the length of the shape (the number of axes in the tensor), while the shape tells you the length along each axis.\n",
        "\n",
        "1. **What are RMSE and L1 norm?**  \n",
        "RMSE is the Euclidean norm. The L1 norm is the absolute value. \n",
        "\n",
        "1. **How can you apply a calculation on thousands of numbers at once, many thousands of times faster than a Python loop?**  \n",
        "Use vectorisation. In libraries like NumPy and PyTorch, this is implemented in C (or other low-level languages, e.g. CUDA for GPUs) so it's much more efficient.\n",
        "\n",
        "1. **What is broadcasting?**  \n",
        "Expanding a tensor with smaller rank such that it has the same size as a larger one, e.g. for an arithmetic operation.\n",
        "\n",
        "1. **Are metrics generally calculated using the training set, or the validation set? Why?**  \n",
        "The validation set. We want to see how well it performs on data that wasn't directly used for training, so that we can test generalisation.\n",
        "\n",
        "1. **What is SGD?**  \n",
        "A way of updating the parameters of a model. It does this by calculating the gradient of the loss using a stochastically chosen data point, then updating the weights using the calculated derivative.\n",
        "\n",
        "1. **Why does SGD use mini-batches?**  \n",
        "It's less noisy than updating with a single data point, and faster than going through the whole dataset. It's also more parallelisable than using a single data point. \n",
        "\n",
        "1. **What are the seven steps in SGD for machine learning?**  \n",
        "Initialise, predict, find loss, find gradient, step, repeat from prediction, iterate until it's time to stop.\n",
        "\n",
        "1. **How do we initialize the weights in a model?**  \n",
        "Often randomly.\n",
        "\n",
        "1. **What is \"loss\"?**  \n",
        "A value that is used to update the parameters of a model; it shows the difference between predictions and actual target values.\n",
        "\n",
        "1. **Why can't we always use a high learning rate?**  \n",
        "We may not converge to the global optimum (or any optimum).\n",
        "\n",
        "1. **What is a \"gradient\"?**  \n",
        "A value (in deep learning) that is essentially just the derivative of the loss. \n",
        "\n",
        "1. **Do you need to know how to calculate gradients yourself?**  \n",
        "Not really, just use the in-built tools. But you should know it!\n",
        "\n",
        "1. **Why can't we use accuracy as a loss function?**  \n",
        "It doesn't change with small changes in parameters, so it's hard for the model to learn. On the other hand, something like MSE loss changes slightly with every step.\n",
        "\n",
        "1. **Draw the sigmoid function. What is special about its shape?**  \n",
        "S shape. It squishes the outputs between 0 and 1.\n",
        "\n",
        "1. **What is the difference between a loss function and a metric?**  \n",
        "A loss function is used for updating parameters. A metric is used for checking performance and not for training.\n",
        "\n",
        "1. **What is the function to calculate new weights using a learning rate?**  \n",
        "The step function in the optimiser\n",
        "\n",
        "1. **What does the `DataLoader` class do?**  \n",
        "It takes a Python collection and turns it into an iterator. It allows us to read images from a dataset. \n",
        "\n",
        "1. **What does `view` do in PyTorch?**  \n",
        "It changes the shape of a tensor without changing its contents.\n",
        "\n",
        "1. **What are the \"bias\" parameters in a neural network? Why do we need them?**  \n",
        "Terms that make outputs (before nonlinear activation) affine transformed rather than just linearly transformed. They help us shift the activation - else the output would always be zero if the input is zero.\n",
        "\n",
        "1. **What does the `@` operator do in Python?**  \n",
        "Matrix multiplication.\n",
        "\n",
        "1. **What does the `backward` method do?**  \n",
        "It calculates the gradients using backprop.\n",
        "\n",
        "1. **Why do we have to zero the gradients?**  \n",
        "Else newly calculated gradients would get added to previous ones.\n",
        "\n",
        "1. **What information do we have to pass to `Learner`?**  \n",
        "Dataloaders, model, optimisation function, loss function, desired metrics\n",
        "\n",
        "1. **What is an \"activation function\"?**  \n",
        "A nonlinear function that takes the activation as input, allowing the model to learn nonlinear relationships. \n",
        "\n",
        "1. **What's the difference between `F.relu` and `nn.ReLU`?**  \n",
        "They do the same thing, but `nn.ReLU` is a PyTorch module whereas `F.relu` is a function.\n",
        "\n",
        "1. **The universal approximation theorem shows that any function can be approximated as closely as needed using just one nonlinearity. So why do we normally use more?**  \n",
        "It's less computationally demanding, and it's also easier to learn more complex functions this way. Don't make the mistake of the second AI winter!"
      ]
    }
  ],
  "metadata": {
    "colab": {
      "name": "fastai_04_mnist_basics.ipynb",
      "provenance": []
    },
    "kernelspec": {
      "display_name": "Python 3",
      "name": "python3"
    },
    "language_info": {
      "name": "python"
    }
  },
  "nbformat": 4,
  "nbformat_minor": 0
}
