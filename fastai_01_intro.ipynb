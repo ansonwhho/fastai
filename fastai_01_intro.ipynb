{
  "cells": [
    {
      "cell_type": "markdown",
      "metadata": {
        "id": "4Z0Rlquy1zys"
      },
      "source": [
        "# Chapter 1: Introduction\n",
        "Re-implementing fastai code. This chapter gives a high-level overview of things, with several examples using SoTA models. "
      ]
    },
    {
      "cell_type": "markdown",
      "metadata": {
        "id": "aRNIm4Jr2c4U"
      },
      "source": [
        "## Setup\n",
        "See the [fastbook GitHub repo](https://github.com/fastai/fastbook) for more details"
      ]
    },
    {
      "cell_type": "code",
      "execution_count": null,
      "metadata": {
        "colab": {
          "base_uri": "https://localhost:8080/"
        },
        "id": "w2oRbF6p2Aot",
        "outputId": "d02eba93-76c8-4aca-8eb1-0e8546bdad28"
      },
      "outputs": [],
      "source": [
        "!pip install -Uqq fastbook\n",
        "import fastbook\n",
        "fastbook.setup_book()"
      ]
    },
    {
      "cell_type": "code",
      "execution_count": null,
      "metadata": {
        "id": "yqlcyIW82Ecu"
      },
      "outputs": [],
      "source": [
        "from fastbook import *"
      ]
    },
    {
      "cell_type": "markdown",
      "metadata": {
        "id": "-72Gm45K2bN8"
      },
      "source": [
        "## Image classification"
      ]
    },
    {
      "cell_type": "markdown",
      "metadata": {
        "id": "CP6qiGGe21QN"
      },
      "source": [
        "Ordinarily it's bad practice to do `from X import *` but fastai is designed to be efficient even when doing this. \n",
        "\n",
        "The following code does three things: \n",
        "1. Downloads the [Oxford-IIIT Pet Dataset](http://www.robots.ox.ac.uk/~vgg/data/pets/)\n",
        "2. Downloads a pretrained model\n",
        "3. Fine-tunes the pretrained model using transfer learning\n",
        "\n"
      ]
    },
    {
      "cell_type": "code",
      "execution_count": null,
      "metadata": {
        "colab": {
          "base_uri": "https://localhost:8080/",
          "height": 233,
          "referenced_widgets": [
            "474552e643b14459aa64bf1a90779cc8",
            "1776418d2fc946d180a30414b9b1a152",
            "3f99063d8c4b43b58026c4f7353ca6de",
            "32cbcbbcc191450e8eb66d3e8f1afef9",
            "c5b554eee385484180cf01351a219e72",
            "90a275cf3aee41da8af16f09f4039cfc",
            "3d27836800cb4ab6bbace143354994f0",
            "f62a2f8a2f6a4000815cc358e667d652",
            "d56a3292f715409a8fde9411be7b9274",
            "0d9017be60a14db591656e9e8e2c8959",
            "5525117a6bd44de4a532eb4217428f38"
          ]
        },
        "id": "3QefB7vM2x5V",
        "outputId": "47abee7a-b2d9-481c-e73d-4fa7f05ab990"
      },
      "outputs": [],
      "source": [
        "from fastai.vision.all import *\n",
        "path = untar_data(URLs.PETS)/'images' # downloads the PETS dataset\n",
        "\n",
        "def is_cat(x): return x[0].isupper()\n",
        "dls = ImageDataLoaders.from_name_func(\n",
        "    path, get_image_files(path), valid_pct=0.2, seed=42,\n",
        "    label_func=is_cat, item_tfms=Resize(224)\n",
        ")\n",
        "\n",
        "learn = cnn_learner(dls, resnet34, metrics=error_rate)\n",
        "learn.fine_tune(1)"
      ]
    },
    {
      "cell_type": "markdown",
      "metadata": {
        "id": "rcRmkSD83sXb"
      },
      "source": [
        "### Things to note\n",
        "Good coding practice: we're calling a path *object*, not just a string!\n",
        "\n",
        "There are two kinds of transforms that we're interested in: \n",
        "1. `item_tfms` are applied to each item\n",
        "2. `batch_tfms` are applied to a batch of items at a time - fast, parallelisable\n",
        "\n",
        "`valid_pct=0.2` means that we use 20% of the data for the validation set.\n",
        "\n",
        "`seed=42` sets the random seed to the same value each time, such that we get the same validation set each time we run it (good for consistency during testing)"
      ]
    },
    {
      "cell_type": "markdown",
      "metadata": {
        "id": "m3w-OniX7caw"
      },
      "source": [
        "## Image segmentation"
      ]
    },
    {
      "cell_type": "code",
      "execution_count": null,
      "metadata": {
        "colab": {
          "base_uri": "https://localhost:8080/",
          "height": 438
        },
        "id": "6rvooQmA7vsT",
        "outputId": "a7196622-40e4-43ec-8c94-14e2341c39fa"
      },
      "outputs": [],
      "source": [
        "path = untar_data(URLs.CAMVID_TINY)\n",
        "dls = SegmentationDataLoaders.from_label_func(\n",
        "    path, bs=8, fnames = get_image_files(path/\"images\"),\n",
        "    label_func = lambda o: path/'labels'/f'{o.stem}_P{o.suffix}',\n",
        "    codes = np.loadtxt(path/'codes.txt', dtype=str)\n",
        ")\n",
        "\n",
        "learn = unet_learner(dls, resnet34)\n",
        "learn.fine_tune(8)"
      ]
    },
    {
      "cell_type": "code",
      "execution_count": null,
      "metadata": {
        "colab": {
          "base_uri": "https://localhost:8080/",
          "height": 577
        },
        "id": "Xeeq2FIV8Rhq",
        "outputId": "e24b9bfa-f5ed-4bb7-d690-7160fe944c39"
      },
      "outputs": [],
      "source": [
        "learn.show_results(max_n=6, figsize=(7,8))"
      ]
    },
    {
      "cell_type": "markdown",
      "metadata": {
        "id": "BJfeccpe8koA"
      },
      "source": [
        "## Natural Language Processing"
      ]
    },
    {
      "cell_type": "code",
      "execution_count": null,
      "metadata": {
        "colab": {
          "base_uri": "https://localhost:8080/",
          "height": 278
        },
        "id": "hWsYF2058_SJ",
        "outputId": "c6a69d54-b1f1-42e6-bc56-201cb8e7f703"
      },
      "outputs": [],
      "source": [
        "from fastai.text.all import *\n",
        "\n",
        "dls = TextDataLoaders.from_folder(untar_data(URLs.IMDB), valid=\"test\")\n",
        "learn = text_classifier_learner(dls, AWD_LSTM, drop_mult=0.5, metrics=accuracy)\n",
        "learn.fine_tune(4, 1e-2)"
      ]
    },
    {
      "cell_type": "markdown",
      "metadata": {
        "id": "q0fZu9i09lo_"
      },
      "source": [
        "If this takes up too much memory, then try reducing the batch size `bs`. "
      ]
    },
    {
      "cell_type": "code",
      "execution_count": null,
      "metadata": {
        "colab": {
          "base_uri": "https://localhost:8080/",
          "height": 33
        },
        "id": "7On4d3Fe-FIK",
        "outputId": "015287d9-f286-424b-8b1e-f5676f21b8d6"
      },
      "outputs": [],
      "source": [
        "learn.predict(\"I really liked that movie!\")\n",
        "# learn.predict(\"Are transformer circuits interpretable?\")\n",
        "# learn.predict(\"今日は\")\n",
        "# learn.predict(\"안녕하세요\")"
      ]
    },
    {
      "cell_type": "markdown",
      "metadata": {
        "id": "Abhq96HPAKDb"
      },
      "source": [
        "For all of the above, there are a few key steps:\n",
        "- Import\n",
        "- Load data (using a dataloader)\n",
        "- Train a model (or download a pretrained one then fine-tune)\n",
        "- Predict\n",
        "\n",
        "These are all pretty standard things to do in ML.\n",
        "\n",
        "You can also learn more about a fastai method using the `doc` function. "
      ]
    },
    {
      "cell_type": "code",
      "execution_count": null,
      "metadata": {
        "colab": {
          "base_uri": "https://localhost:8080/",
          "height": 145
        },
        "id": "UvHN0YeMAkFJ",
        "outputId": "86717a78-bd7d-4eac-aa47-b90d4a4dad59"
      },
      "outputs": [],
      "source": [
        "doc(learn.predict)"
      ]
    },
    {
      "cell_type": "markdown",
      "metadata": {
        "id": "yDZaa6gQIHG9"
      },
      "source": [
        "## Tabular data: Predicting income"
      ]
    },
    {
      "cell_type": "code",
      "execution_count": null,
      "metadata": {
        "colab": {
          "base_uri": "https://localhost:8080/",
          "height": 37
        },
        "id": "jKZJCVlIIvCO",
        "outputId": "9e9dc424-9b0e-4e62-ede2-46f10b961adc"
      },
      "outputs": [],
      "source": [
        "from fastai.tabular.all import *\n",
        "path = untar_data(URLs.ADULT_SAMPLE)\n",
        "\n",
        "dls = TabularDataLoaders.from_csv(path/'adult.csv', path=path, y_names=\"salary\",\n",
        "    cat_names = ['workclass', 'education', 'marital-status', 'occupation',\n",
        "                 'relationship', 'race'],\n",
        "    cont_names = ['age', 'fnlwgt', 'education-num'],\n",
        "    procs = [Categorify, FillMissing, Normalize])\n",
        "\n",
        "learn = tabular_learner(dls, metrics=accuracy)"
      ]
    },
    {
      "cell_type": "markdown",
      "metadata": {
        "id": "TPRgTDH6JfdY"
      },
      "source": [
        "Notice that we had to mention which columns are categorical and which are continuous. \n",
        "\n",
        "Data in tables is usually is less likely to have an appropriate pretrained model, so we'll need to train from scratch. For this we use `fit_one_cycle` rather than `fine_tune`."
      ]
    },
    {
      "cell_type": "code",
      "execution_count": null,
      "metadata": {
        "colab": {
          "base_uri": "https://localhost:8080/",
          "height": 143
        },
        "id": "2NJEd1EzJ3a-",
        "outputId": "c2f1bc2b-a7ac-4ce4-8487-2a3579e598c6"
      },
      "outputs": [],
      "source": [
        "learn.fit_one_cycle(3)"
      ]
    },
    {
      "cell_type": "markdown",
      "metadata": {
        "id": "a6uj09NgKOIu"
      },
      "source": [
        "## Tabular data: Predicting movie ratings"
      ]
    },
    {
      "cell_type": "code",
      "execution_count": null,
      "metadata": {
        "colab": {
          "base_uri": "https://localhost:8080/",
          "height": 427
        },
        "id": "TR1Ei61AKTYW",
        "outputId": "c214d31d-ff5d-4397-cd4c-fae7584581e8"
      },
      "outputs": [],
      "source": [
        "from fastai.collab import *\n",
        "path = untar_data(URLs.ML_SAMPLE)\n",
        "dls = CollabDataLoaders.from_csv(path/'ratings.csv')\n",
        "learn = collab_learner(dls, y_range=(0.5, 5.5))\n",
        "learn.fine_tune(10)"
      ]
    },
    {
      "cell_type": "markdown",
      "metadata": {
        "id": "h2mVkXuoKxSI"
      },
      "source": [
        "In this case the output is continuous, so we need to specify the range of the target using `y_range`. "
      ]
    },
    {
      "cell_type": "code",
      "execution_count": null,
      "metadata": {
        "colab": {
          "base_uri": "https://localhost:8080/",
          "height": 331
        },
        "id": "e5e5bDXpK6_k",
        "outputId": "0334d02b-bb40-4983-d7ae-4ce2823cc1d0"
      },
      "outputs": [],
      "source": [
        "learn.show_results()"
      ]
    },
    {
      "cell_type": "markdown",
      "metadata": {
        "id": "ahqvn-QtK9Hl"
      },
      "source": [
        "## Questionnaire"
      ]
    },
    {
      "cell_type": "markdown",
      "metadata": {
        "id": "HvaIPIBAK_0Q"
      },
      "source": [
        "1. **What was the name of the first device that was based on the principle of the artifical neuron?**  \n",
        "The perceptron\n",
        "\n",
        "1. **Based on the book of the same name, what are the requirements for parallel distributed processing (PDP)?**  \n",
        "Architectures and states, together with rules for activations, propagation and learning, all within a particular environment. \n",
        "\n",
        "1. **What were the two theoretical misunderstandings that held back the field of neural networks?**  \n",
        "(1) conflating \"simple perceptrons cannot even learn simple functions like XOR\" with \"all perceptron models with however many layers cannot learn simple functions\". (2) one layer is all you need in *theory*, with infinite width, but isn't a good idea in practice\n",
        "\n",
        "1. **What is a GPU?**  \n",
        "Graphical processing unit, kind of like a \"specialised CPU\" that does lots of matrix calculations, making it good for deep learning. \n",
        "\n",
        "1. **Why is it hard to use a traditional computer program to recognize images in a photo?**  \n",
        "We don't know how to specify the task of image recognition such that we could implement it in code.\n",
        "\n",
        "1. **What did Samuel mean by \"weight assignment\"?**  \n",
        "A set of values for the variables of a model, \"what the current weights are\". These help control the output, and are updated through training.\n",
        "\n",
        "1. **What term do we normally use in deep learning for what Samuel called \"weights\"?**  \n",
        "Parameters  \n",
        "\n",
        "1. **Why is it hard to understand why a deep learning model makes a particular prediction?**  \n",
        "The parameters are often hidden, or may not correspond to easily interpretable features. Moreover, this is done automatically by the model, rather than being \"hand-crafted\". \n",
        "\n",
        "1. **What is the name of the theorem that shows that a neural network can solve any mathematical problem to any level of accuracy?**  \n",
        "The universal approximation theorem\n",
        "\n",
        "1. **What do you need in order to train a model?** \n",
        "(Labelled) data, a suitable algorithm, compute \n",
        "\n",
        "1. **How could a feedback loop impact the rollout of a predictive policing model?**  \n",
        "It biases attention to be focused more towards areas where more arrests are made *in the dataset*, but not necessarily in practice. \n",
        "\n",
        "1. **Do we always have to use 224x224-pixel images with the cat recognition model?**  \n",
        "No - 224 pixels is just common practice historically. Other sizes also work - larger sizes give better results, but require more compute. \n",
        "\n",
        "1. **What is the difference between classification and regression?**  \n",
        "Classificiation gives a discrete output from a set of classes, regression gives a continuous output\n",
        "\n",
        "1. **What is a validation set? What is a test set? Why do we need them?**  \n",
        "A validation set is a hidden set of data used to measure model performance before deployment, and improve the model accuracy. The test set is another hidden set that isn't used to improve the model, just to evaluate it. Neither of these are used for training the model. These help check model accuracy and prevent overfitting - training loss keeps decreasing and may eventually overfit, but validation loss (because the validation set is disjoint) helps spot this. The validation set prevents overfitting on the training set, and the test set prevents overfitting on the validation set. \n",
        "\n",
        "1. **What will fastai do if you don't provide a validation set?**  \n",
        "It creates a validation set automatically, with a default `valid_pct` of `0.2`. \n",
        "\n",
        "1. **Can we always use a random sample for a validation set? Why or why not?**  \n",
        "We \"can\", but it's probably a bad idea. If we split the dataset such that sometimes the model is trained on validations set data in another run, then this leads to contamination and defeats the purpose of splitting the sets into validation and training sets. Furthermore, using different validation sets makes it hard to determine whether the model is actually improving, or if changes to the performance are due to changes in the datasets. \n",
        "\n",
        "1. **What is overfitting? Provide an example.**  \n",
        "Fitting to noise rather than genuine patterns in the data, e.g. due to excessive model complexity. \n",
        "\n",
        "1. **What is a metric? How does it differ from \"loss\"?**\n",
        "A metric is a functino that measures the quality of the model predictions using the validation set. It's not the same as loss, because it's defined to be human-readable, whereas loss is used to help update weights using gradient descent.\n",
        "\n",
        "1. **How can pretrained models help?**  \n",
        "It allows us to train more accurate models faster, with less data, less time, and less money. \n",
        "\n",
        "1. **What is the \"head\" of a model?**  \n",
        "The last layer/part of a pretrained model. This is replaced with a randomly initialised layer for transfer learning, then fine-tuned. \n",
        "\n",
        "1. **What kinds of features do the early layers of a CNN find? How about the later layers?**  \n",
        "Early layers find low-level features, later layers find higher-level ones. \n",
        "\n",
        "1. **Are image models only useful for photos?**  \n",
        "Nope! Just convert the data you're interested in into image data. \n",
        "\n",
        "1. **What is an \"architecture\"?**  \n",
        "The structure of the model in question. \n",
        "\n",
        "1. **What is segmentation?**  \n",
        "Drawing a border around objects in images. \n",
        "\n",
        "1. **What is `y_range` used for? When do we need it?**  \n",
        "It sets a bound on the possible target values\n",
        "\n",
        "1. **What are \"hyperparameters\"?**  \n",
        "Parameters that control parameters (i.e. parameters that control the training process)\n",
        "\n",
        "1. **What's the best way to avoid failures when using AI in an organization?**  \n",
        "Properly use validation and test sets - split the data before training, and make sure it is never seen during training. Then test it!"
      ]
    },
    {
      "cell_type": "markdown",
      "metadata": {
        "id": "XVdaudMuO8ns"
      },
      "source": [
        "## Further Research"
      ]
    },
    {
      "cell_type": "markdown",
      "metadata": {
        "id": "on4J2bJRPAjy"
      },
      "source": [
        "1. **Why is a GPU useful for deep learning? How is a CPU different, and why is it less effective for deep learning?**  \n",
        "It's specialised for matrix operations, and is also good for parallelising operations (e.g. minibatches in minibatch gradient descent). This makes it more efficient for deep learning. A CPU is more general (less about matrix operations) and thus does not have an architecture that is as suited for deep learning. "
      ]
    }
  ],
  "metadata": {
    "accelerator": "GPU",
    "colab": {
      "collapsed_sections": [],
      "name": "fastai_01_intro.ipynb",
      "provenance": []
    },
    "kernelspec": {
      "display_name": "Python 3",
      "name": "python3"
    },
    "language_info": {
      "name": "python"
    },
    "widgets": {
      "application/vnd.jupyter.widget-state+json": {
        "0d9017be60a14db591656e9e8e2c8959": {
          "model_module": "@jupyter-widgets/controls",
          "model_module_version": "1.5.0",
          "model_name": "DescriptionStyleModel",
          "state": {
            "_model_module": "@jupyter-widgets/controls",
            "_model_module_version": "1.5.0",
            "_model_name": "DescriptionStyleModel",
            "_view_count": null,
            "_view_module": "@jupyter-widgets/base",
            "_view_module_version": "1.2.0",
            "_view_name": "StyleView",
            "description_width": ""
          }
        },
        "1776418d2fc946d180a30414b9b1a152": {
          "model_module": "@jupyter-widgets/base",
          "model_module_version": "1.2.0",
          "model_name": "LayoutModel",
          "state": {
            "_model_module": "@jupyter-widgets/base",
            "_model_module_version": "1.2.0",
            "_model_name": "LayoutModel",
            "_view_count": null,
            "_view_module": "@jupyter-widgets/base",
            "_view_module_version": "1.2.0",
            "_view_name": "LayoutView",
            "align_content": null,
            "align_items": null,
            "align_self": null,
            "border": null,
            "bottom": null,
            "display": null,
            "flex": null,
            "flex_flow": null,
            "grid_area": null,
            "grid_auto_columns": null,
            "grid_auto_flow": null,
            "grid_auto_rows": null,
            "grid_column": null,
            "grid_gap": null,
            "grid_row": null,
            "grid_template_areas": null,
            "grid_template_columns": null,
            "grid_template_rows": null,
            "height": null,
            "justify_content": null,
            "justify_items": null,
            "left": null,
            "margin": null,
            "max_height": null,
            "max_width": null,
            "min_height": null,
            "min_width": null,
            "object_fit": null,
            "object_position": null,
            "order": null,
            "overflow": null,
            "overflow_x": null,
            "overflow_y": null,
            "padding": null,
            "right": null,
            "top": null,
            "visibility": null,
            "width": null
          }
        },
        "32cbcbbcc191450e8eb66d3e8f1afef9": {
          "model_module": "@jupyter-widgets/controls",
          "model_module_version": "1.5.0",
          "model_name": "FloatProgressModel",
          "state": {
            "_dom_classes": [],
            "_model_module": "@jupyter-widgets/controls",
            "_model_module_version": "1.5.0",
            "_model_name": "FloatProgressModel",
            "_view_count": null,
            "_view_module": "@jupyter-widgets/controls",
            "_view_module_version": "1.5.0",
            "_view_name": "ProgressView",
            "bar_style": "success",
            "description": "",
            "description_tooltip": null,
            "layout": "IPY_MODEL_d56a3292f715409a8fde9411be7b9274",
            "max": 87319819,
            "min": 0,
            "orientation": "horizontal",
            "style": "IPY_MODEL_f62a2f8a2f6a4000815cc358e667d652",
            "value": 87319819
          }
        },
        "3d27836800cb4ab6bbace143354994f0": {
          "model_module": "@jupyter-widgets/base",
          "model_module_version": "1.2.0",
          "model_name": "LayoutModel",
          "state": {
            "_model_module": "@jupyter-widgets/base",
            "_model_module_version": "1.2.0",
            "_model_name": "LayoutModel",
            "_view_count": null,
            "_view_module": "@jupyter-widgets/base",
            "_view_module_version": "1.2.0",
            "_view_name": "LayoutView",
            "align_content": null,
            "align_items": null,
            "align_self": null,
            "border": null,
            "bottom": null,
            "display": null,
            "flex": null,
            "flex_flow": null,
            "grid_area": null,
            "grid_auto_columns": null,
            "grid_auto_flow": null,
            "grid_auto_rows": null,
            "grid_column": null,
            "grid_gap": null,
            "grid_row": null,
            "grid_template_areas": null,
            "grid_template_columns": null,
            "grid_template_rows": null,
            "height": null,
            "justify_content": null,
            "justify_items": null,
            "left": null,
            "margin": null,
            "max_height": null,
            "max_width": null,
            "min_height": null,
            "min_width": null,
            "object_fit": null,
            "object_position": null,
            "order": null,
            "overflow": null,
            "overflow_x": null,
            "overflow_y": null,
            "padding": null,
            "right": null,
            "top": null,
            "visibility": null,
            "width": null
          }
        },
        "3f99063d8c4b43b58026c4f7353ca6de": {
          "model_module": "@jupyter-widgets/controls",
          "model_module_version": "1.5.0",
          "model_name": "HTMLModel",
          "state": {
            "_dom_classes": [],
            "_model_module": "@jupyter-widgets/controls",
            "_model_module_version": "1.5.0",
            "_model_name": "HTMLModel",
            "_view_count": null,
            "_view_module": "@jupyter-widgets/controls",
            "_view_module_version": "1.5.0",
            "_view_name": "HTMLView",
            "description": "",
            "description_tooltip": null,
            "layout": "IPY_MODEL_3d27836800cb4ab6bbace143354994f0",
            "placeholder": "​",
            "style": "IPY_MODEL_90a275cf3aee41da8af16f09f4039cfc",
            "value": "100%"
          }
        },
        "474552e643b14459aa64bf1a90779cc8": {
          "model_module": "@jupyter-widgets/controls",
          "model_module_version": "1.5.0",
          "model_name": "HBoxModel",
          "state": {
            "_dom_classes": [],
            "_model_module": "@jupyter-widgets/controls",
            "_model_module_version": "1.5.0",
            "_model_name": "HBoxModel",
            "_view_count": null,
            "_view_module": "@jupyter-widgets/controls",
            "_view_module_version": "1.5.0",
            "_view_name": "HBoxView",
            "box_style": "",
            "children": [
              "IPY_MODEL_3f99063d8c4b43b58026c4f7353ca6de",
              "IPY_MODEL_32cbcbbcc191450e8eb66d3e8f1afef9",
              "IPY_MODEL_c5b554eee385484180cf01351a219e72"
            ],
            "layout": "IPY_MODEL_1776418d2fc946d180a30414b9b1a152"
          }
        },
        "5525117a6bd44de4a532eb4217428f38": {
          "model_module": "@jupyter-widgets/base",
          "model_module_version": "1.2.0",
          "model_name": "LayoutModel",
          "state": {
            "_model_module": "@jupyter-widgets/base",
            "_model_module_version": "1.2.0",
            "_model_name": "LayoutModel",
            "_view_count": null,
            "_view_module": "@jupyter-widgets/base",
            "_view_module_version": "1.2.0",
            "_view_name": "LayoutView",
            "align_content": null,
            "align_items": null,
            "align_self": null,
            "border": null,
            "bottom": null,
            "display": null,
            "flex": null,
            "flex_flow": null,
            "grid_area": null,
            "grid_auto_columns": null,
            "grid_auto_flow": null,
            "grid_auto_rows": null,
            "grid_column": null,
            "grid_gap": null,
            "grid_row": null,
            "grid_template_areas": null,
            "grid_template_columns": null,
            "grid_template_rows": null,
            "height": null,
            "justify_content": null,
            "justify_items": null,
            "left": null,
            "margin": null,
            "max_height": null,
            "max_width": null,
            "min_height": null,
            "min_width": null,
            "object_fit": null,
            "object_position": null,
            "order": null,
            "overflow": null,
            "overflow_x": null,
            "overflow_y": null,
            "padding": null,
            "right": null,
            "top": null,
            "visibility": null,
            "width": null
          }
        },
        "90a275cf3aee41da8af16f09f4039cfc": {
          "model_module": "@jupyter-widgets/controls",
          "model_module_version": "1.5.0",
          "model_name": "DescriptionStyleModel",
          "state": {
            "_model_module": "@jupyter-widgets/controls",
            "_model_module_version": "1.5.0",
            "_model_name": "DescriptionStyleModel",
            "_view_count": null,
            "_view_module": "@jupyter-widgets/base",
            "_view_module_version": "1.2.0",
            "_view_name": "StyleView",
            "description_width": ""
          }
        },
        "c5b554eee385484180cf01351a219e72": {
          "model_module": "@jupyter-widgets/controls",
          "model_module_version": "1.5.0",
          "model_name": "HTMLModel",
          "state": {
            "_dom_classes": [],
            "_model_module": "@jupyter-widgets/controls",
            "_model_module_version": "1.5.0",
            "_model_name": "HTMLModel",
            "_view_count": null,
            "_view_module": "@jupyter-widgets/controls",
            "_view_module_version": "1.5.0",
            "_view_name": "HTMLView",
            "description": "",
            "description_tooltip": null,
            "layout": "IPY_MODEL_5525117a6bd44de4a532eb4217428f38",
            "placeholder": "​",
            "style": "IPY_MODEL_0d9017be60a14db591656e9e8e2c8959",
            "value": " 83.3M/83.3M [00:04&lt;00:00, 33.6MB/s]"
          }
        },
        "d56a3292f715409a8fde9411be7b9274": {
          "model_module": "@jupyter-widgets/base",
          "model_module_version": "1.2.0",
          "model_name": "LayoutModel",
          "state": {
            "_model_module": "@jupyter-widgets/base",
            "_model_module_version": "1.2.0",
            "_model_name": "LayoutModel",
            "_view_count": null,
            "_view_module": "@jupyter-widgets/base",
            "_view_module_version": "1.2.0",
            "_view_name": "LayoutView",
            "align_content": null,
            "align_items": null,
            "align_self": null,
            "border": null,
            "bottom": null,
            "display": null,
            "flex": null,
            "flex_flow": null,
            "grid_area": null,
            "grid_auto_columns": null,
            "grid_auto_flow": null,
            "grid_auto_rows": null,
            "grid_column": null,
            "grid_gap": null,
            "grid_row": null,
            "grid_template_areas": null,
            "grid_template_columns": null,
            "grid_template_rows": null,
            "height": null,
            "justify_content": null,
            "justify_items": null,
            "left": null,
            "margin": null,
            "max_height": null,
            "max_width": null,
            "min_height": null,
            "min_width": null,
            "object_fit": null,
            "object_position": null,
            "order": null,
            "overflow": null,
            "overflow_x": null,
            "overflow_y": null,
            "padding": null,
            "right": null,
            "top": null,
            "visibility": null,
            "width": null
          }
        },
        "f62a2f8a2f6a4000815cc358e667d652": {
          "model_module": "@jupyter-widgets/controls",
          "model_module_version": "1.5.0",
          "model_name": "ProgressStyleModel",
          "state": {
            "_model_module": "@jupyter-widgets/controls",
            "_model_module_version": "1.5.0",
            "_model_name": "ProgressStyleModel",
            "_view_count": null,
            "_view_module": "@jupyter-widgets/base",
            "_view_module_version": "1.2.0",
            "_view_name": "StyleView",
            "bar_color": null,
            "description_width": ""
          }
        }
      }
    }
  },
  "nbformat": 4,
  "nbformat_minor": 0
}
